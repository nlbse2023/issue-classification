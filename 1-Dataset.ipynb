{
 "cells": [
  {
   "cell_type": "markdown",
   "metadata": {},
   "source": [
    "# Dataset"
   ]
  },
  {
   "cell_type": "code",
   "execution_count": null,
   "metadata": {
    "vscode": {
     "languageId": "python"
    }
   },
   "outputs": [],
   "source": [
    "from google.cloud import bigquery\n",
    "import csv\n",
    "import time\n",
    "from tqdm.notebook import tqdm"
   ]
  },
  {
   "cell_type": "code",
   "execution_count": 13,
   "metadata": {
    "vscode": {
     "languageId": "python"
    }
   },
   "outputs": [
    {
     "name": "stdout",
     "output_type": "stream",
     "text": [
      "env: GOOGLE_APPLICATION_CREDENTIALS=/home/rafaelkallis/.config/gcloud/application_default_credentials.json\n"
     ]
    },
    {
     "ename": "OSError",
     "evalue": "Project was not passed and could not be determined from the environment.",
     "output_type": "error",
     "traceback": [
      "\u001b[0;31m---------------------------------------------------------------------------\u001b[0m",
      "\u001b[0;31mOSError\u001b[0m                                   Traceback (most recent call last)",
      "\u001b[1;32m/home/rafaelkallis/nlbse-2023-issue-classification/1-Dataset.ipynb Cell 3\u001b[0m in \u001b[0;36m<cell line: 2>\u001b[0;34m()\u001b[0m\n\u001b[1;32m      <a href='vscode-notebook-cell:/home/rafaelkallis/nlbse-2023-issue-classification/1-Dataset.ipynb#W2sZmlsZQ%3D%3D?line=0'>1</a>\u001b[0m get_ipython()\u001b[39m.\u001b[39mrun_line_magic(\u001b[39m'\u001b[39m\u001b[39menv\u001b[39m\u001b[39m'\u001b[39m, \u001b[39m'\u001b[39m\u001b[39mGOOGLE_APPLICATION_CREDENTIALS=/home/rafaelkallis/.config/gcloud/application_default_credentials.json\u001b[39m\u001b[39m'\u001b[39m)\n\u001b[0;32m----> <a href='vscode-notebook-cell:/home/rafaelkallis/nlbse-2023-issue-classification/1-Dataset.ipynb#W2sZmlsZQ%3D%3D?line=1'>2</a>\u001b[0m client \u001b[39m=\u001b[39m bigquery\u001b[39m.\u001b[39mClient()\n\u001b[1;32m      <a href='vscode-notebook-cell:/home/rafaelkallis/nlbse-2023-issue-classification/1-Dataset.ipynb#W2sZmlsZQ%3D%3D?line=3'>4</a>\u001b[0m query \u001b[39m=\u001b[39m \u001b[39m\"\"\"\u001b[39m\n\u001b[1;32m      <a href='vscode-notebook-cell:/home/rafaelkallis/nlbse-2023-issue-classification/1-Dataset.ipynb#W2sZmlsZQ%3D%3D?line=4'>5</a>\u001b[0m \u001b[39mWITH\u001b[39m\n\u001b[1;32m      <a href='vscode-notebook-cell:/home/rafaelkallis/nlbse-2023-issue-classification/1-Dataset.ipynb#W2sZmlsZQ%3D%3D?line=5'>6</a>\u001b[0m \u001b[39m  -- label synonyms from Izadi et al.\u001b[39m\n\u001b[0;32m   (...)\u001b[0m\n\u001b[1;32m     <a href='vscode-notebook-cell:/home/rafaelkallis/nlbse-2023-issue-classification/1-Dataset.ipynb#W2sZmlsZQ%3D%3D?line=60'>61</a>\u001b[0m \u001b[39mFROM concatenated_labels\u001b[39m\n\u001b[1;32m     <a href='vscode-notebook-cell:/home/rafaelkallis/nlbse-2023-issue-classification/1-Dataset.ipynb#W2sZmlsZQ%3D%3D?line=61'>62</a>\u001b[0m \u001b[39m\"\"\"\u001b[39m\n\u001b[1;32m     <a href='vscode-notebook-cell:/home/rafaelkallis/nlbse-2023-issue-classification/1-Dataset.ipynb#W2sZmlsZQ%3D%3D?line=63'>64</a>\u001b[0m query_job \u001b[39m=\u001b[39m client\u001b[39m.\u001b[39mquery(query)\n",
      "File \u001b[0;32m~/.local/lib/python3.10/site-packages/google/cloud/bigquery/client.py:226\u001b[0m, in \u001b[0;36mClient.__init__\u001b[0;34m(self, project, credentials, _http, location, default_query_job_config, client_info, client_options)\u001b[0m\n\u001b[1;32m    216\u001b[0m \u001b[39mdef\u001b[39;00m \u001b[39m__init__\u001b[39m(\n\u001b[1;32m    217\u001b[0m     \u001b[39mself\u001b[39m,\n\u001b[1;32m    218\u001b[0m     project\u001b[39m=\u001b[39m\u001b[39mNone\u001b[39;00m,\n\u001b[0;32m   (...)\u001b[0m\n\u001b[1;32m    224\u001b[0m     client_options\u001b[39m=\u001b[39m\u001b[39mNone\u001b[39;00m,\n\u001b[1;32m    225\u001b[0m ) \u001b[39m-\u001b[39m\u001b[39m>\u001b[39m \u001b[39mNone\u001b[39;00m:\n\u001b[0;32m--> 226\u001b[0m     \u001b[39msuper\u001b[39;49m(Client, \u001b[39mself\u001b[39;49m)\u001b[39m.\u001b[39;49m\u001b[39m__init__\u001b[39;49m(\n\u001b[1;32m    227\u001b[0m         project\u001b[39m=\u001b[39;49mproject,\n\u001b[1;32m    228\u001b[0m         credentials\u001b[39m=\u001b[39;49mcredentials,\n\u001b[1;32m    229\u001b[0m         client_options\u001b[39m=\u001b[39;49mclient_options,\n\u001b[1;32m    230\u001b[0m         _http\u001b[39m=\u001b[39;49m_http,\n\u001b[1;32m    231\u001b[0m     )\n\u001b[1;32m    233\u001b[0m     kw_args \u001b[39m=\u001b[39m {\u001b[39m\"\u001b[39m\u001b[39mclient_info\u001b[39m\u001b[39m\"\u001b[39m: client_info}\n\u001b[1;32m    234\u001b[0m     bq_host \u001b[39m=\u001b[39m _get_bigquery_host()\n",
      "File \u001b[0;32m~/.local/lib/python3.10/site-packages/google/cloud/client/__init__.py:320\u001b[0m, in \u001b[0;36mClientWithProject.__init__\u001b[0;34m(self, project, credentials, client_options, _http)\u001b[0m\n\u001b[1;32m    319\u001b[0m \u001b[39mdef\u001b[39;00m \u001b[39m__init__\u001b[39m(\u001b[39mself\u001b[39m, project\u001b[39m=\u001b[39m\u001b[39mNone\u001b[39;00m, credentials\u001b[39m=\u001b[39m\u001b[39mNone\u001b[39;00m, client_options\u001b[39m=\u001b[39m\u001b[39mNone\u001b[39;00m, _http\u001b[39m=\u001b[39m\u001b[39mNone\u001b[39;00m):\n\u001b[0;32m--> 320\u001b[0m     _ClientProjectMixin\u001b[39m.\u001b[39;49m\u001b[39m__init__\u001b[39;49m(\u001b[39mself\u001b[39;49m, project\u001b[39m=\u001b[39;49mproject, credentials\u001b[39m=\u001b[39;49mcredentials)\n\u001b[1;32m    321\u001b[0m     Client\u001b[39m.\u001b[39m\u001b[39m__init__\u001b[39m(\n\u001b[1;32m    322\u001b[0m         \u001b[39mself\u001b[39m, credentials\u001b[39m=\u001b[39mcredentials, client_options\u001b[39m=\u001b[39mclient_options, _http\u001b[39m=\u001b[39m_http\n\u001b[1;32m    323\u001b[0m     )\n",
      "File \u001b[0;32m~/.local/lib/python3.10/site-packages/google/cloud/client/__init__.py:271\u001b[0m, in \u001b[0;36m_ClientProjectMixin.__init__\u001b[0;34m(self, project, credentials)\u001b[0m\n\u001b[1;32m    268\u001b[0m     project \u001b[39m=\u001b[39m \u001b[39mself\u001b[39m\u001b[39m.\u001b[39m_determine_default(project)\n\u001b[1;32m    270\u001b[0m \u001b[39mif\u001b[39;00m project \u001b[39mis\u001b[39;00m \u001b[39mNone\u001b[39;00m:\n\u001b[0;32m--> 271\u001b[0m     \u001b[39mraise\u001b[39;00m \u001b[39mEnvironmentError\u001b[39;00m(\n\u001b[1;32m    272\u001b[0m         \u001b[39m\"\u001b[39m\u001b[39mProject was not passed and could not be \u001b[39m\u001b[39m\"\u001b[39m\n\u001b[1;32m    273\u001b[0m         \u001b[39m\"\u001b[39m\u001b[39mdetermined from the environment.\u001b[39m\u001b[39m\"\u001b[39m\n\u001b[1;32m    274\u001b[0m     )\n\u001b[1;32m    276\u001b[0m \u001b[39mif\u001b[39;00m \u001b[39misinstance\u001b[39m(project, \u001b[39mbytes\u001b[39m):\n\u001b[1;32m    277\u001b[0m     project \u001b[39m=\u001b[39m project\u001b[39m.\u001b[39mdecode(\u001b[39m\"\u001b[39m\u001b[39mutf-8\u001b[39m\u001b[39m\"\u001b[39m)\n",
      "\u001b[0;31mOSError\u001b[0m: Project was not passed and could not be determined from the environment."
     ]
    }
   ],
   "source": [
    "%env GOOGLE_APPLICATION_CREDENTIALS=/home/rafaelkallis/.config/gcloud/application_default_credentials.json\n",
    "client = bigquery.Client()\n",
    "\n",
    "query = \"\"\"\n",
    "WITH\n",
    "  -- label synonyms from Izadi et al.\n",
    "  label_synonyms AS (\n",
    "    SELECT 'bug' AS label, synonym FROM UNNEST(['bug', 'type: bug', 'kind/bug', 'crash', 'defect', 'type-defect', 'type:bug', 'browser bug', 'fix', 'fixed', 'bugfix', 'bug fix', 'resolution: fixed', 'troubleshooting', 'type/bug', 'bug report']) AS synonym\n",
    "    UNION ALL\n",
    "    SELECT 'feature', * FROM UNNEST(['feature', 'feature request', 'enhancement', 'improvement', 'type: feature', 'type:feature', 'new feature', 'kind/feature', 'kind/enhancement'])\n",
    "    UNION ALL\n",
    "    SELECT 'question', * FROM UNNEST(['question', 'faq', 'type: question', 'type:question'])\n",
    "    UNION ALL\n",
    "    SELECT 'documentation', * FROM UNNEST(['documentation', 'docs', 'doc', 'type: documentation', 'needs documentation', 'area/documentation', 'type: docs', 'type:docs', 'needs docs', 'wiki', 'kind/documentation', 'kind/docs'])\n",
    "  ),\n",
    "  close_events AS (\n",
    "    SELECT payload\n",
    "    FROM `githubarchive.day.2022*`\n",
    "    WHERE\n",
    "      _TABLE_SUFFIX BETWEEN '0101' AND '0102'\n",
    "      -- _TABLE_SUFFIX BETWEEN '0101' AND '0631'\n",
    "      AND type = 'IssuesEvent'\n",
    "      AND JSON_EXTRACT_SCALAR(payload, '$.action') = 'closed'\n",
    "      AND JSON_EXTRACT_SCALAR(payload, '$.issue.body') != 'null'\n",
    "  ),\n",
    "  nested_labels AS (\n",
    "    SELECT\n",
    "      ARRAY(\n",
    "        SELECT LOWER(JSON_EXTRACT_SCALAR(label_payload, '$.name'))\n",
    "        FROM UNNEST(JSON_EXTRACT_ARRAY(payload, '$.issue.labels')) AS label_payload\n",
    "      ) AS labels,\n",
    "      payload\n",
    "    FROM close_events\n",
    "  ),\n",
    "  synonymized_labels AS (\n",
    "    SELECT\n",
    "      ARRAY(\n",
    "        SELECT DISTINCT label_synonyms.label -- bug, feature, question, documentation\n",
    "        FROM UNNEST(nested_labels.labels) AS label, label_synonyms\n",
    "        WHERE label = label_synonyms.synonym\n",
    "        ORDER BY label_synonyms.label\n",
    "      ) AS labels,\n",
    "      payload\n",
    "    FROM nested_labels\n",
    "  ),\n",
    "  filtered_labels AS (\n",
    "    SELECT labels, payload\n",
    "    FROM synonymized_labels\n",
    "    WHERE ARRAY_LENGTH(labels) = 1 -- exactly 1 label\n",
    "  ),\n",
    "  concatenated_labels AS (\n",
    "    SELECT ARRAY_TO_STRING(labels, ',') AS labels, payload\n",
    "    FROM filtered_labels\n",
    "  )\n",
    "SELECT\n",
    "  JSON_EXTRACT_SCALAR(payload, '$.issue.id') AS id,\n",
    "  labels,\n",
    "  JSON_EXTRACT_SCALAR(payload, '$.issue.title') AS title,\n",
    "  JSON_EXTRACT_SCALAR(payload, '$.issue.body') AS body,\n",
    "  JSON_EXTRACT_SCALAR(payload, '$.issue.author_association') AS author_association\n",
    "FROM concatenated_labels\n",
    "\"\"\"\n",
    "\n",
    "query_job = client.query(query)\n",
    "rows = query_job.result()\n",
    "\n",
    "with open(f\"github-issue-classification.csv\", \"w\", newline='') as f:\n",
    "\twriter = csv.DictWriter(\n",
    "    f, \n",
    "    fieldnames=[\"id\", \"labels\", \"title\", \"body\", \"author_association\"], \n",
    "    quoting=csv.QUOTE_NONE,\n",
    "    escapechar='\\\\', \n",
    "  )\n",
    "\twriter.writeheader()\n",
    "\tfor row in tqdm(rows, desc=\"BigQuery\"):\n",
    "\t\twriter.writerow(row)\n"
   ]
  },
  {
   "cell_type": "code",
   "execution_count": 2,
   "metadata": {
    "vscode": {
     "languageId": "python"
    }
   },
   "outputs": [
    {
     "name": "stdout",
     "output_type": "stream",
     "text": [
      "0\n"
     ]
    }
   ],
   "source": [
    "with open(f\"github-issue-classification.csv\", newline='') as f:\n",
    "\tn_lines = sum(1 for _ in csv.DictReader(f, quoting=csv.QUOTE_NONE, escapechar='\\\\'))\n",
    "\tprint(n_lines)"
   ]
  }
 ],
 "metadata": {
  "kernelspec": {
   "display_name": "Python 3 (ipykernel)",
   "language": "python",
   "name": "python3"
  },
  "orig_nbformat": 4
 },
 "nbformat": 4,
 "nbformat_minor": 2
}
